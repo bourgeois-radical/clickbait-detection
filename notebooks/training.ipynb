{
 "cells": [
  {
   "cell_type": "code",
   "execution_count": 6,
   "id": "34d1f392",
   "metadata": {},
   "outputs": [],
   "source": [
    "# no cache; always uploading from modules\n",
    "%load_ext autoreload\n",
    "%autoreload 2\n",
    "\n",
    "# matplotib\n",
    "%matplotlib inline"
   ]
  },
  {
   "cell_type": "code",
   "execution_count": 1,
   "id": "9941472f",
   "metadata": {},
   "outputs": [],
   "source": [
    "# built-in\n",
    "import sys\n",
    "import os\n",
    "import pickle\n",
    "from pathlib import Path\n",
    "\n",
    "# installed\n",
    "import numpy as np\n",
    "import matplotlib.pyplot as plt\n",
    "import torch\n",
    "import torch.nn as nn\n",
    "from torch.utils.data import Dataset\n",
    "from torch.utils.data import DataLoader\n",
    "from sklearn.model_selection import train_test_split"
   ]
  },
  {
   "cell_type": "code",
   "execution_count": 8,
   "id": "a6b58ce0",
   "metadata": {},
   "outputs": [],
   "source": [
    "sys.path.append(\"../\")"
   ]
  },
  {
   "cell_type": "code",
   "execution_count": 10,
   "id": "465b6062",
   "metadata": {},
   "outputs": [],
   "source": [
    "# local\n",
    "from utils import data_helper\n",
    "from utils import preprocessing\n",
    "from utils.models import RNN\n",
    "from utils.data_helper import ClickbaitDataSet\n",
    "from utils.data_helper import get_data_from_file\n",
    "from utils.data_helper import building_vocab\n",
    "from train_and_evaluate import get_loss_and_optimizer\n",
    "from train_and_evaluate import train_model_for_one_epoch\n",
    "from train_and_evaluate import evaluate_model\n",
    "from utils.showing_results import ClickbaitClassifier"
   ]
  },
  {
   "cell_type": "markdown",
   "id": "03ea1082",
   "metadata": {},
   "source": [
    "# Getting training data"
   ]
  },
  {
   "cell_type": "code",
   "execution_count": 14,
   "id": "e11a5896",
   "metadata": {},
   "outputs": [
    {
     "name": "stdout",
     "output_type": "stream",
     "text": [
      "The length of clickbait_yes_data: 14335\n",
      "The length of clickbait_no_data: 14465\n",
      "\n",
      "The length of X and y are the same: True\n",
      "\n",
      "1's and 0's on the right places: True\n",
      "\n"
     ]
    }
   ],
   "source": [
    "clickbait_yes_path = Path('../', 'data', 'clickbait_yes')\n",
    "clickbait_no_path = Path('../', 'data', 'clickbait_no')\n",
    "\n",
    "# uploading data\n",
    "clickbait_yes_data = get_data_from_file(clickbait_yes_path)\n",
    "clickbait_no_data = get_data_from_file(clickbait_no_path)\n",
    "print('The length of clickbait_yes_data:', len(clickbait_yes_data))\n",
    "print('The length of clickbait_no_data:', len(clickbait_no_data))\n",
    "print()\n",
    "\n",
    "# preprocessing data\n",
    "preprocessor = preprocessing.Preprocess()\n",
    "clickbait_yes_preprocessed = preprocessor(clickbait_yes_data)\n",
    "clickbait_no_preprocessed = preprocessor(clickbait_no_data)\n",
    "\n",
    "# joining data + creating X and y\n",
    "X = clickbait_yes_preprocessed + clickbait_no_preprocessed\n",
    "y_clickbait_yes_np = np.ones(shape=(len(clickbait_yes_preprocessed), ))\n",
    "y_clickbait_no_np = np.zeros(shape=(len(clickbait_no_preprocessed), ))\n",
    "y = np.concatenate((y_clickbait_yes_np, y_clickbait_no_np))\n",
    "\n",
    "# checking whether everything is OK with X and y!\n",
    "print(f'The length of X and y are the same: {len(X) == len(y)}')\n",
    "print()\n",
    "print(f\"1's and 0's on the right places: {y[len(clickbait_yes_preprocessed)-1] == 1 and y[len(clickbait_yes_preprocessed)] == 0}\")\n",
    "print()"
   ]
  },
  {
   "cell_type": "markdown",
   "id": "e4b85314",
   "metadata": {},
   "source": [
    "# Build and save vocabulary"
   ]
  },
  {
   "cell_type": "code",
   "execution_count": 30,
   "id": "275725a8",
   "metadata": {},
   "outputs": [
    {
     "name": "stdout",
     "output_type": "stream",
     "text": [
      "Vocab's length: 22754\n"
     ]
    }
   ],
   "source": [
    "vocab = building_vocab(X)\n",
    "\n",
    "# save vocab for validation\n",
    "with open('../data/vocab.pkl', 'wb') as f:  #wb - write binary \n",
    "    pickle.dump(vocab, f)"
   ]
  },
  {
   "cell_type": "markdown",
   "id": "b693c46f",
   "metadata": {},
   "source": [
    "# Collating batches"
   ]
  },
  {
   "cell_type": "code",
   "execution_count": 16,
   "id": "91e2f4dd",
   "metadata": {},
   "outputs": [],
   "source": [
    "# transforms sentence with words into sentence with vocab-ids corresponding to these words\n",
    "sentence_pipeline = lambda sentence: [vocab[token] if token in vocab else vocab[\"<unk>\"] for token in sentence]\n",
    "\n",
    "def collate_batch(batch):\n",
    "    \n",
    "    label_list, all_sentences_list, lengths = [], [], []\n",
    "    \n",
    "    for _sentence, _label, in batch: # a sample with its label from train_dataset\n",
    "        label_list.append(_label)\n",
    "        processed_sentence = torch.tensor(sentence_pipeline(_sentence), dtype=torch.int64)\n",
    "        all_sentences_list.append(processed_sentence)\n",
    "        lengths.append(processed_sentence.size(0))\n",
    "        \n",
    "    label_list = torch.tensor(label_list)\n",
    "    lengths = torch.tensor(lengths)\n",
    "    padded_sentences_list = nn.utils.rnn.pad_sequence(all_sentences_list, batch_first=True)\n",
    "    \n",
    "    return padded_sentences_list, label_list, lengths"
   ]
  },
  {
   "cell_type": "markdown",
   "id": "729709a0",
   "metadata": {},
   "source": [
    "# Dataloaders"
   ]
  },
  {
   "cell_type": "code",
   "execution_count": 18,
   "id": "c5495350",
   "metadata": {},
   "outputs": [],
   "source": [
    "train_dataset = ClickbaitDataSet(X, y)\n",
    "batch_size = 32\n",
    "\n",
    "train_dl = DataLoader(\n",
    "    train_dataset,\n",
    "    batch_size=batch_size,\n",
    "    shuffle=True,\n",
    "    collate_fn=collate_batch\n",
    ")"
   ]
  },
  {
   "cell_type": "markdown",
   "id": "b625bb7d",
   "metadata": {},
   "source": [
    "# Models and their results"
   ]
  },
  {
   "cell_type": "markdown",
   "id": "4f548035",
   "metadata": {},
   "source": [
    "## Baseline model"
   ]
  },
  {
   "cell_type": "code",
   "execution_count": 19,
   "id": "224c23e8",
   "metadata": {},
   "outputs": [
    {
     "name": "stdout",
     "output_type": "stream",
     "text": [
      "RNN(\n",
      "  (embedding): Embedding(22754, 20, padding_idx=0)\n",
      "  (rnn): LSTM(20, 64, batch_first=True)\n",
      "  (fc1): Linear(in_features=64, out_features=64, bias=True)\n",
      "  (dropout_fc1): Dropout(p=0, inplace=False)\n",
      "  (relu): ReLU()\n",
      "  (fc2): Linear(in_features=64, out_features=1, bias=True)\n",
      "  (dropout_fc2): Dropout(p=0, inplace=False)\n",
      "  (sigmoid): Sigmoid()\n",
      ")\n"
     ]
    }
   ],
   "source": [
    "vocab_size = len(vocab)\n",
    "embed_dim = 20\n",
    "rnn_hidden_size = 64\n",
    "fc_hidden_size = 64\n",
    "\n",
    "torch.manual_seed(42)\n",
    "baseline_model = RNN(vocab_size, embed_dim, rnn_hidden_size, fc_hidden_size) # передать в train\n",
    "print(baseline_model)"
   ]
  },
  {
   "cell_type": "markdown",
   "id": "8122fa72",
   "metadata": {},
   "source": [
    "### Training"
   ]
  },
  {
   "cell_type": "code",
   "execution_count": 20,
   "id": "211d688b",
   "metadata": {},
   "outputs": [
    {
     "name": "stdout",
     "output_type": "stream",
     "text": [
      "Epoch 0 | F1_score: 0.8150 | Loss: 0.3382\n",
      "Epoch 1 | F1_score: 0.9512 | Loss: 0.1246\n",
      "Epoch 2 | F1_score: 0.9776 | Loss: 0.0616\n",
      "Epoch 3 | F1_score: 0.9911 | Loss: 0.0269\n",
      "Epoch 4 | F1_score: 0.9961 | Loss: 0.0113\n",
      "Epoch 5 | F1_score: 0.9970 | Loss: 0.0094\n",
      "Epoch 6 | F1_score: 0.9985 | Loss: 0.0046\n",
      "Epoch 7 | F1_score: 0.9980 | Loss: 0.0060\n",
      "Epoch 8 | F1_score: 0.9994 | Loss: 0.0016\n",
      "Epoch 9 | F1_score: 0.9993 | Loss: 0.0020\n"
     ]
    }
   ],
   "source": [
    "torch.manual_seed(42)\n",
    "\n",
    "loss_function, optimizer = get_loss_and_optimizer(baseline_model)\n",
    "\n",
    "num_epochs = 10\n",
    "all_losses = []\n",
    "\n",
    "for epoch in range(num_epochs):\n",
    "    f1_train, loss_train, epoch_loss = train_model_for_one_epoch(train_dl, baseline_model, loss_function, optimizer)\n",
    "    all_losses.append(epoch_loss)\n",
    "    print(f'Epoch {epoch} | F1_score: {f1_train:.4f} | Loss: {loss_train:.4f}')"
   ]
  },
  {
   "cell_type": "markdown",
   "id": "e0c4737d",
   "metadata": {},
   "source": [
    "### Learning curve for the baseline model"
   ]
  },
  {
   "cell_type": "code",
   "execution_count": 21,
   "id": "7c95e51f",
   "metadata": {},
   "outputs": [
    {
     "data": {
      "text/plain": [
       "[<matplotlib.lines.Line2D at 0x1e10f80d280>]"
      ]
     },
     "execution_count": 21,
     "metadata": {},
     "output_type": "execute_result"
    },
    {
     "data": {
      "image/png": "[encoded data removed]",
      "text/plain": [
       "<Figure size 2000x1000 with 1 Axes>"
      ]
     },
     "metadata": {},
     "output_type": "display_data"
    }
   ],
   "source": [
    "epochs_np = np.arange(0, num_epochs, 1)\n",
    "losses_np = np.asarray(all_losses)\n",
    "\n",
    "plt.figure(figsize=(20, 10))\n",
    "plt.plot(epochs_np, losses_np)"
   ]
  },
  {
   "cell_type": "markdown",
   "id": "6751d8d6",
   "metadata": {},
   "source": [
    "## Model with dropouts"
   ]
  },
  {
   "cell_type": "code",
   "execution_count": 22,
   "id": "ddb097bd",
   "metadata": {},
   "outputs": [
    {
     "name": "stdout",
     "output_type": "stream",
     "text": [
      "RNN(\n",
      "  (embedding): Embedding(22754, 400, padding_idx=0)\n",
      "  (rnn): LSTM(400, 128, batch_first=True)\n",
      "  (fc1): Linear(in_features=128, out_features=128, bias=True)\n",
      "  (dropout_fc1): Dropout(p=0.22, inplace=False)\n",
      "  (relu): ReLU()\n",
      "  (fc2): Linear(in_features=128, out_features=1, bias=True)\n",
      "  (dropout_fc2): Dropout(p=0.48, inplace=False)\n",
      "  (sigmoid): Sigmoid()\n",
      ")\n"
     ]
    }
   ],
   "source": [
    "vocab_size = len(vocab)\n",
    "embed_dim = 400\n",
    "rnn_hidden_size = 128\n",
    "fc_hidden_size = 128\n",
    "\n",
    "torch.manual_seed(42)\n",
    "model_with_dropouts = RNN(vocab_size, embed_dim, rnn_hidden_size, fc_hidden_size, p_fc1=0.22, p_fc2=0.48, bidirec=False) \n",
    "print(model_with_dropouts)"
   ]
  },
  {
   "cell_type": "markdown",
   "id": "e647f0e3",
   "metadata": {},
   "source": [
    "### Training"
   ]
  },
  {
   "cell_type": "code",
   "execution_count": 23,
   "id": "9acc8e2f",
   "metadata": {},
   "outputs": [
    {
     "name": "stdout",
     "output_type": "stream",
     "text": [
      "Epoch 0 | F1_score: 0.7562 | Loss: 0.4629\n",
      "Epoch 1 | F1_score: 0.7850 | Loss: 0.3864\n",
      "Epoch 2 | F1_score: 0.7921 | Loss: 0.3714\n",
      "Epoch 3 | F1_score: 0.7945 | Loss: 0.3559\n",
      "Epoch 4 | F1_score: 0.7960 | Loss: 0.3498\n",
      "Epoch 5 | F1_score: 0.7992 | Loss: 0.3434\n",
      "Epoch 6 | F1_score: 0.7982 | Loss: 0.3399\n",
      "Epoch 7 | F1_score: 0.7957 | Loss: 0.3409\n",
      "Epoch 8 | F1_score: 0.7988 | Loss: 0.3359\n",
      "Epoch 9 | F1_score: 0.8015 | Loss: 0.3365\n",
      "Epoch 10 | F1_score: 0.8036 | Loss: 0.3362\n",
      "Epoch 11 | F1_score: 0.7996 | Loss: 0.3423\n",
      "Epoch 12 | F1_score: 0.7989 | Loss: 0.3406\n",
      "Epoch 13 | F1_score: 0.8012 | Loss: 0.3328\n",
      "Epoch 14 | F1_score: 0.8004 | Loss: 0.3330\n",
      "Epoch 15 | F1_score: 0.8013 | Loss: 0.3335\n",
      "Epoch 16 | F1_score: 0.8010 | Loss: 0.3342\n",
      "Epoch 17 | F1_score: 0.8015 | Loss: 0.3341\n",
      "Epoch 18 | F1_score: 0.7996 | Loss: 0.3398\n",
      "Epoch 19 | F1_score: 0.8013 | Loss: 0.3317\n"
     ]
    }
   ],
   "source": [
    "torch.manual_seed(42)\n",
    "\n",
    "loss_function, optimizer = get_loss_and_optimizer(model_with_dropouts)\n",
    "\n",
    "num_epochs = 20\n",
    "all_losses = []\n",
    "\n",
    "for epoch in range(num_epochs):\n",
    "    f1_train, loss_train, epoch_loss = train_model_for_one_epoch(train_dl, model_with_dropouts, \n",
    "                                                                 loss_function, optimizer)\n",
    "    all_losses.append(epoch_loss)\n",
    "    print(f'Epoch {epoch} | F1_score: {f1_train:.4f} | Loss: {loss_train:.4f}')"
   ]
  },
  {
   "cell_type": "markdown",
   "id": "5ddaedaf",
   "metadata": {},
   "source": [
    "### Learning curve for the model with dropouts"
   ]
  },
  {
   "cell_type": "code",
   "execution_count": 24,
   "id": "37ae1da6",
   "metadata": {},
   "outputs": [
    {
     "data": {
      "text/plain": [
       "[<matplotlib.lines.Line2D at 0x1e111477820>]"
      ]
     },
     "execution_count": 24,
     "metadata": {},
     "output_type": "execute_result"
    },
    {
     "data": {
      "image/png": "[encoded data removed]",
      "text/plain": [
       "<Figure size 2000x1000 with 1 Axes>"
      ]
     },
     "metadata": {},
     "output_type": "display_data"
    }
   ],
   "source": [
    "epochs_np = np.arange(0, num_epochs, 1)\n",
    "losses_np = np.asarray(all_losses)\n",
    "\n",
    "plt.figure(figsize=(20, 10))\n",
    "plt.plot(epochs_np, losses_np)"
   ]
  },
  {
   "cell_type": "markdown",
   "id": "a5f869e6",
   "metadata": {},
   "source": [
    "# Save model with dropouts"
   ]
  },
  {
   "cell_type": "code",
   "execution_count": 25,
   "id": "5f8c5f5b",
   "metadata": {},
   "outputs": [],
   "source": [
    "torch.save(model_with_dropouts, 'model_with_dropouts')"
   ]
  },
  {
   "cell_type": "markdown",
   "id": "7d53cb57",
   "metadata": {},
   "source": [
    "### See \"./validation.ipynb\" for test-metrics and some examples"
   ]
  }
 ],
 "metadata": {
  "kernelspec": {
   "display_name": "Python 3 (ipykernel)",
   "language": "python",
   "name": "python3"
  },
  "language_info": {
   "codemirror_mode": {
    "name": "ipython",
    "version": 3
   },
   "file_extension": ".py",
   "mimetype": "text/x-python",
   "name": "python",
   "nbconvert_exporter": "python",
   "pygments_lexer": "ipython3",
   "version": "3.8.15"
  }
 },
 "nbformat": 4,
 "nbformat_minor": 5
}
