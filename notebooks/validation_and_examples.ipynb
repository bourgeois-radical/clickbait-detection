{
 "cells": [
  {
   "cell_type": "code",
   "execution_count": 1,
   "id": "dcd2f539",
   "metadata": {},
   "outputs": [],
   "source": [
    "# built-in\n",
    "import sys\n",
    "import os\n",
    "import pickle\n",
    "from pathlib import Path\n",
    "\n",
    "# installed\n",
    "import numpy as np\n",
    "import matplotlib.pyplot as plt\n",
    "import torch\n",
    "import torch.nn as nn\n",
    "from torch.utils.data import Dataset\n",
    "from torch.utils.data import DataLoader\n",
    "from sklearn.model_selection import train_test_split"
   ]
  },
  {
   "cell_type": "code",
   "execution_count": 2,
   "id": "6f75aefc",
   "metadata": {},
   "outputs": [],
   "source": [
    "sys.path.append(\"../\")"
   ]
  },
  {
   "cell_type": "code",
   "execution_count": 4,
   "id": "ab9e79c5",
   "metadata": {},
   "outputs": [],
   "source": [
    "# local\n",
    "from utils import data_helper\n",
    "from utils import preprocessing\n",
    "from utils.models import RNN\n",
    "from utils.data_helper import ClickbaitDataSet\n",
    "from utils.data_helper import get_data_from_file\n",
    "from utils.data_helper import building_vocab\n",
    "from train_and_evaluate import get_loss_and_optimizer\n",
    "from train_and_evaluate import train_model_for_one_epoch\n",
    "from train_and_evaluate import evaluate_model\n",
    "from utils.showing_results import ClickbaitClassifier"
   ]
  },
  {
   "cell_type": "markdown",
   "id": "5713ae9c",
   "metadata": {},
   "source": [
    "# Getting validation set"
   ]
  },
  {
   "cell_type": "code",
   "execution_count": 11,
   "id": "9cb81686",
   "metadata": {},
   "outputs": [
    {
     "name": "stdout",
     "output_type": "stream",
     "text": [
      "The length of clickbait_yes_data: 1664\n",
      "The length of clickbait_no_data: 1536\n",
      "\n",
      "The length of X and y are the same: True\n",
      "\n",
      "1's and 0's on the right places: True\n",
      "\n"
     ]
    }
   ],
   "source": [
    "clickbait_yes_valid_path = Path('../', 'data', 'validation', 'clickbait_yes')\n",
    "clickbait_no_valid_path = Path('../', 'data', 'validation', 'clickbait_no')\n",
    "\n",
    "# uploading data\n",
    "clickbait_yes_valid = get_data_from_file(clickbait_yes_valid_path)\n",
    "clickbait_no_valid = get_data_from_file(clickbait_no_valid_path)\n",
    "print('The length of clickbait_yes_data:', len(clickbait_yes_valid))\n",
    "print('The length of clickbait_no_data:', len(clickbait_no_valid))\n",
    "print()\n",
    "\n",
    "# preprocessing data\n",
    "preprocesser = preprocessing.Preprocess()\n",
    "clickbait_yes_valid_preprocessed = preprocesser(clickbait_yes_valid)\n",
    "clickbait_no_valid_preprocessed = preprocesser(clickbait_no_valid)\n",
    "\n",
    "# joining data + creating X and y\n",
    "X_valid = clickbait_yes_valid_preprocessed + clickbait_no_valid_preprocessed\n",
    "y_clickbait_yes_valid_np = np.ones(shape=(len(clickbait_yes_valid_preprocessed), ))#.reshape(-1, 1)\n",
    "y_clickbait_no_valid_np = np.zeros(shape=(len(clickbait_no_valid_preprocessed), ))#.reshape(-1, 1)\n",
    "y_valid = np.concatenate((y_clickbait_yes_valid_np, y_clickbait_no_valid_np))\n",
    "\n",
    "# checking whether everything is OK with X and y!\n",
    "print(f'The length of X and y are the same: {len(X_valid) == len(y_valid)}')\n",
    "print()\n",
    "print(f\"1's and 0's on the right places: {(y_valid[len(clickbait_yes_valid_preprocessed)-1] == 1) and (y_valid[len(clickbait_yes_valid_preprocessed)] == 0)}\")\n",
    "print()"
   ]
  },
  {
   "cell_type": "markdown",
   "id": "85d03160",
   "metadata": {},
   "source": [
    "# Upload vocab"
   ]
  },
  {
   "cell_type": "code",
   "execution_count": 20,
   "id": "4365d827",
   "metadata": {},
   "outputs": [],
   "source": [
    "with open('../data/vocab.pkl', 'rb') as f:  #rb - read binary \n",
    "    vocab = pickle.load(f)"
   ]
  },
  {
   "cell_type": "markdown",
   "id": "9f2bcbf6",
   "metadata": {},
   "source": [
    "# Collating batches"
   ]
  },
  {
   "cell_type": "code",
   "execution_count": 13,
   "id": "460f3ca1",
   "metadata": {},
   "outputs": [],
   "source": [
    "# transforms sentence with words into sentence with vocab-ids corresponding to these words\n",
    "sentence_pipeline = lambda sentence: [vocab[token] if token in vocab else vocab[\"<unk>\"] for token in sentence]\n",
    "\n",
    "def collate_batch(batch):\n",
    "    \n",
    "    label_list, all_sentences_list, lengths = [], [], []\n",
    "    \n",
    "    for _sentence, _label, in batch: # a sample with its label from train_dataset\n",
    "        label_list.append(_label)\n",
    "        processed_sentence = torch.tensor(sentence_pipeline(_sentence), dtype=torch.int64)\n",
    "        all_sentences_list.append(processed_sentence)\n",
    "        lengths.append(processed_sentence.size(0))\n",
    "        \n",
    "    label_list = torch.tensor(label_list)\n",
    "    lengths = torch.tensor(lengths)\n",
    "    padded_sentences_list = nn.utils.rnn.pad_sequence(all_sentences_list, batch_first=True)\n",
    "    \n",
    "    return padded_sentences_list, label_list, lengths"
   ]
  },
  {
   "cell_type": "markdown",
   "id": "57082f88",
   "metadata": {},
   "source": [
    "# Import model with dropouts"
   ]
  },
  {
   "cell_type": "code",
   "execution_count": 5,
   "id": "0d71c9e8",
   "metadata": {},
   "outputs": [],
   "source": [
    "model_with_dropouts = torch.load('model_with_dropouts')"
   ]
  },
  {
   "cell_type": "code",
   "execution_count": 6,
   "id": "f163e6d7",
   "metadata": {},
   "outputs": [
    {
     "data": {
      "text/plain": [
       "utils.models.RNN"
      ]
     },
     "execution_count": 6,
     "metadata": {},
     "output_type": "execute_result"
    }
   ],
   "source": [
    "type(model_with_dropouts)"
   ]
  },
  {
   "cell_type": "code",
   "execution_count": 15,
   "id": "7efeb24a",
   "metadata": {},
   "outputs": [],
   "source": [
    "valid_dataset = ClickbaitDataSet(X_valid, y_valid)\n",
    "batch_size = 32\n",
    "\n",
    "valid_dl = DataLoader(\n",
    "    valid_dataset,\n",
    "    batch_size=batch_size,\n",
    "    shuffle=False,\n",
    "    collate_fn=collate_batch\n",
    ")"
   ]
  },
  {
   "cell_type": "markdown",
   "id": "e9220663",
   "metadata": {},
   "source": [
    "# Evaluation"
   ]
  },
  {
   "cell_type": "code",
   "execution_count": 16,
   "id": "637656e3",
   "metadata": {},
   "outputs": [
    {
     "name": "stdout",
     "output_type": "stream",
     "text": [
      "F1_score for test = 0.962\n"
     ]
    },
    {
     "data": {
      "image/png": "[encoded data removed]",
      "text/plain": [
       "<Figure size 640x480 with 2 Axes>"
      ]
     },
     "metadata": {},
     "output_type": "display_data"
    }
   ],
   "source": [
    "model_with_dropouts = model_with_dropouts.eval()\n",
    "f1_score_test_with_dropouts = evaluate_model(valid_dl, model_with_dropouts)\n",
    "print(f'F1_score for test = {f1_score_test_with_dropouts:.3f}') "
   ]
  },
  {
   "cell_type": "markdown",
   "id": "d4b3fad1",
   "metadata": {},
   "source": [
    "# Showing model results (some random titels from the net)"
   ]
  },
  {
   "cell_type": "code",
   "execution_count": 18,
   "id": "35aed537",
   "metadata": {},
   "outputs": [
    {
     "name": "stdout",
     "output_type": "stream",
     "text": [
      "'How I Made $1 Million Last Week From Clicking Here' is clickbait with probability = 99.96%\n",
      "\n",
      "'Russia-Ukraine war: Germany blocks offer of tanks for Ukraine' is clickbait with probability = 0.00%\n",
      "\n",
      "'What Happened When I Clicked Here And Asked Her On A Date' is clickbait with probability = 100.00%\n",
      "\n",
      "'Kylian Mbappe's affectionate gesture to Cristiano that he's never made with Messi' is clickbait with probability = 100.00%\n",
      "\n",
      "'Germany says it is no longer reliant on Russian energy' is clickbait with probability = 0.00%\n",
      "\n",
      "'When Students Change Gender Identity, and Parents Don’t Know' is clickbait with probability = 23.26%\n",
      "\n",
      "'Artificial intelligence is creating a new colonial world order' is clickbait with probability = 0.00%\n",
      "\n",
      "'AI research: the unreasonably narrow path and how not to be miserable' is clickbait with probability = 0.28%\n",
      "\n",
      "'How eating oysters could help protect the coast' is clickbait with probability = 100.00%\n",
      "\n",
      "'How a middle-class family built a £4m cannabis empire to preserve their lifestyle' is clickbait with probability = 69.59%\n",
      "\n",
      "'The Meeting Place Cannot Be Changed. Berlin!' is clickbait with probability = 0.22%\n",
      "\n"
     ]
    }
   ],
   "source": [
    "vocab_size = len(vocab)\n",
    "embed_dim = 400\n",
    "rnn_hidden_size = 128\n",
    "fc_hidden_size = 128\n",
    "\n",
    "# model_testing = RNN(vocab_size, embed_dim, rnn_hidden_size, fc_hidden_size, p_fc1=0.22, p_fc2=0.48, bidirec=False)\n",
    "# model_testing.load_state_dict(torch.load('model_with_dropouts'))\n",
    "model_testing = torch.load('model_with_dropouts')\n",
    "model_testing.eval()\n",
    "\n",
    "check_clickbait = ClickbaitClassifier(model_testing, preprocesser, vocab)\n",
    "\n",
    "some_sentences = [\"How I Made $1 Million Last Week From Clicking Here\", \"Russia-Ukraine war: Germany blocks offer of tanks for Ukraine\",\n",
    "                 \"What Happened When I Clicked Here And Asked Her On A Date\", \"Kylian Mbappe's affectionate gesture to Cristiano that he's never made with Messi\",\n",
    "                  \"Germany says it is no longer reliant on Russian energy\", \"When Students Change Gender Identity, and Parents Don’t Know\", \n",
    "                 \"Artificial intelligence is creating a new colonial world order\", \"AI research: the unreasonably narrow path and how not to be miserable\",\n",
    "                 \"How eating oysters could help protect the coast\", \"How a middle-class family built a £4m cannabis empire to preserve their lifestyle\",\n",
    "                  \"The Meeting Place Cannot Be Changed. Berlin!\"\n",
    "                ]\n",
    "\n",
    "for example_sentence in some_sentences:\n",
    "    print(f\"'{example_sentence}' is clickbait with probability = {check_clickbait(example_sentence)*100:.2f}%\\n\")\n"
   ]
  }
 ],
 "metadata": {
  "kernelspec": {
   "display_name": "Python 3 (ipykernel)",
   "language": "python",
   "name": "python3"
  },
  "language_info": {
   "codemirror_mode": {
    "name": "ipython",
    "version": 3
   },
   "file_extension": ".py",
   "mimetype": "text/x-python",
   "name": "python",
   "nbconvert_exporter": "python",
   "pygments_lexer": "ipython3",
   "version": "3.8.15"
  }
 },
 "nbformat": 4,
 "nbformat_minor": 5
}
